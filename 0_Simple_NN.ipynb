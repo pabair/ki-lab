{
  "nbformat": 4,
  "nbformat_minor": 0,
  "metadata": {
    "colab": {
      "name": "0_Simple_NN.ipynb",
      "provenance": [],
      "collapsed_sections": [],
      "authorship_tag": "ABX9TyP86JHRNy+HPRix8nG/AUoW",
      "include_colab_link": true
    },
    "kernelspec": {
      "name": "python3",
      "display_name": "Python 3"
    }
  },
  "cells": [
    {
      "cell_type": "markdown",
      "metadata": {
        "id": "view-in-github",
        "colab_type": "text"
      },
      "source": [
        "<a href=\"https://colab.research.google.com/github/pabair/ki-lab/blob/master/0_Simple_NN.ipynb\" target=\"_parent\"><img src=\"https://colab.research.google.com/assets/colab-badge.svg\" alt=\"Open In Colab\"/></a>"
      ]
    },
    {
      "cell_type": "markdown",
      "metadata": {
        "id": "xWZWmmfvBsjT",
        "colab_type": "text"
      },
      "source": [
        "Simple Neural Network with PyTorch. Original source can be found [here](https://pytorch.org/tutorials/beginner/pytorch_with_examples.html)."
      ]
    },
    {
      "cell_type": "code",
      "metadata": {
        "id": "KiSxqdTnARWj",
        "colab_type": "code",
        "colab": {}
      },
      "source": [
        "import torch"
      ],
      "execution_count": 10,
      "outputs": []
    },
    {
      "cell_type": "code",
      "metadata": {
        "id": "lJFMRWjuBLe_",
        "colab_type": "code",
        "colab": {}
      },
      "source": [
        "class TwoLayerNet(torch.nn.Module):\n",
        "    def __init__(self, D_in, H, D_out):\n",
        "        \"\"\"\n",
        "        In the constructor we instantiate two nn.Linear modules and assign them as\n",
        "        member variables.\n",
        "        \"\"\"\n",
        "        super(TwoLayerNet, self).__init__()\n",
        "        self.linear1 = torch.nn.Linear(D_in, H)\n",
        "        self.linear2 = torch.nn.Linear(H, D_out)\n",
        "\n",
        "    def forward(self, x):\n",
        "        \"\"\"\n",
        "        In the forward function we accept a Tensor of input data and we must return\n",
        "        a Tensor of output data. We can use Modules defined in the constructor as\n",
        "        well as arbitrary operators on Tensors.\n",
        "        \"\"\"\n",
        "        h_relu = self.linear1(x).clamp(min=0)\n",
        "        y_pred = self.linear2(h_relu)\n",
        "        return y_pred"
      ],
      "execution_count": 11,
      "outputs": []
    },
    {
      "cell_type": "code",
      "metadata": {
        "id": "9BERwGxGBP3A",
        "colab_type": "code",
        "colab": {
          "base_uri": "https://localhost:8080/",
          "height": 884
        },
        "outputId": "4117e5f4-e23f-4dac-d97f-d73658652a44"
      },
      "source": [
        "\n",
        "# N is batch size; D_in is input dimension;\n",
        "# H is hidden dimension; D_out is output dimension.\n",
        "N, D_in, H, D_out = 64, 1000, 100, 10\n",
        "\n",
        "# Create random Tensors to hold inputs and outputs\n",
        "x = torch.randn(N, D_in)\n",
        "y = torch.randn(N, D_out)\n",
        "\n",
        "# Construct our model by instantiating the class defined above\n",
        "model = TwoLayerNet(D_in, H, D_out)\n",
        "\n",
        "# Construct our loss function and an Optimizer. The call to model.parameters()\n",
        "# in the SGD constructor will contain the learnable parameters of the two\n",
        "# nn.Linear modules which are members of the model.\n",
        "criterion = torch.nn.MSELoss(reduction='sum')\n",
        "optimizer = torch.optim.SGD(model.parameters(), lr=1e-4)\n",
        "for t in range(500):\n",
        "    # Forward pass: Compute predicted y by passing x to the model\n",
        "    y_pred = model(x)\n",
        "\n",
        "    # Compute and print loss\n",
        "    loss = criterion(y_pred, y)\n",
        "    if t % 10 == 9:\n",
        "        print(f\"Loss in epoch is {t} is {loss.item()}\")\n",
        "\n",
        "    # Zero gradients, perform a backward pass, and update the weights.\n",
        "    optimizer.zero_grad()\n",
        "    loss.backward()\n",
        "    optimizer.step()\n",
        "print(\"Training finished.\")"
      ],
      "execution_count": 12,
      "outputs": [
        {
          "output_type": "stream",
          "text": [
            "Loss in epoch is 9 is 362.725830078125\n",
            "Loss in epoch is 19 is 207.02157592773438\n",
            "Loss in epoch is 29 is 115.57958984375\n",
            "Loss in epoch is 39 is 62.55937957763672\n",
            "Loss in epoch is 49 is 33.67436981201172\n",
            "Loss in epoch is 59 is 18.47943115234375\n",
            "Loss in epoch is 69 is 10.42956256866455\n",
            "Loss in epoch is 79 is 6.046360492706299\n",
            "Loss in epoch is 89 is 3.5882744789123535\n",
            "Loss in epoch is 99 is 2.179870367050171\n",
            "Loss in epoch is 109 is 1.35407555103302\n",
            "Loss in epoch is 119 is 0.8613201379776001\n",
            "Loss in epoch is 129 is 0.5596182346343994\n",
            "Loss in epoch is 139 is 0.37072956562042236\n",
            "Loss in epoch is 149 is 0.24972915649414062\n",
            "Loss in epoch is 159 is 0.17090223729610443\n",
            "Loss in epoch is 169 is 0.11859944462776184\n",
            "Loss in epoch is 179 is 0.08336944133043289\n",
            "Loss in epoch is 189 is 0.05929527431726456\n",
            "Loss in epoch is 199 is 0.04265146702528\n",
            "Loss in epoch is 209 is 0.03102053329348564\n",
            "Loss in epoch is 219 is 0.022848404943943024\n",
            "Loss in epoch is 229 is 0.01699846237897873\n",
            "Loss in epoch is 239 is 0.01276436261832714\n",
            "Loss in epoch is 249 is 0.009666251949965954\n",
            "Loss in epoch is 259 is 0.007378012407571077\n",
            "Loss in epoch is 269 is 0.005672161001712084\n",
            "Loss in epoch is 279 is 0.0043901726603507996\n",
            "Loss in epoch is 289 is 0.0034189741127192974\n",
            "Loss in epoch is 299 is 0.002678034594282508\n",
            "Loss in epoch is 309 is 0.0021088249050080776\n",
            "Loss in epoch is 319 is 0.001668771030381322\n",
            "Loss in epoch is 329 is 0.0013265246525406837\n",
            "Loss in epoch is 339 is 0.0010589153971523046\n",
            "Loss in epoch is 349 is 0.0008487857412546873\n",
            "Loss in epoch is 359 is 0.0006827558390796185\n",
            "Loss in epoch is 369 is 0.0005509849288500845\n",
            "Loss in epoch is 379 is 0.0004460105556063354\n",
            "Loss in epoch is 389 is 0.00036203075433149934\n",
            "Loss in epoch is 399 is 0.0002946234599221498\n",
            "Loss in epoch is 409 is 0.00024031990324147046\n",
            "Loss in epoch is 419 is 0.0001964539842447266\n",
            "Loss in epoch is 429 is 0.00016091809084173292\n",
            "Loss in epoch is 439 is 0.0001320531009696424\n",
            "Loss in epoch is 449 is 0.00010854705760721117\n",
            "Loss in epoch is 459 is 8.936748781707138e-05\n",
            "Loss in epoch is 469 is 7.36869260435924e-05\n",
            "Loss in epoch is 479 is 6.083888001739979e-05\n",
            "Loss in epoch is 489 is 5.029224848840386e-05\n",
            "Loss in epoch is 499 is 4.162644108873792e-05\n",
            "Training finished.\n"
          ],
          "name": "stdout"
        }
      ]
    },
    {
      "cell_type": "code",
      "metadata": {
        "id": "62oIqwE7BUf2",
        "colab_type": "code",
        "colab": {}
      },
      "source": [
        ""
      ],
      "execution_count": 12,
      "outputs": []
    }
  ]
}